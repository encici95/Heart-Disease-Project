{
 "cells": [
  {
   "cell_type": "code",
   "execution_count": 6,
   "id": "7484e285-2ffb-47de-9ba3-32c735253cd3",
   "metadata": {},
   "outputs": [],
   "source": [
    "\n",
    "from sqlalchemy import create_engine, text\n",
    "import pymysql\n",
    "import pandas as pd"
   ]
  },
  {
   "cell_type": "code",
   "execution_count": 5,
   "id": "5c878cd1",
   "metadata": {},
   "outputs": [],
   "source": [
    "# Database credentials\n",
    "user = input('username:')\n",
    "password = input('password:')\n",
    "host = 'localhost'\n",
    "database = 'heart'\n",
    "\n",
    "# Establish pymysql connection\n",
    "connection = pymysql.connect(host=host, user=user, password=password)\n",
    "# Create database if not exists\n",
    "try:\n",
    "    with connection.cursor() as cursor:\n",
    "        cursor.execute(\"CREATE DATABASE IF NOT EXISTS heart;\")\n",
    "    connection.commit()\n",
    "finally:\n",
    "    connection.close()\n",
    "\n",
    "# Reconnect to the newly created (or existing) database\n",
    "engine = create_engine(f'mysql+pymysql://{user}:{password}@{host}/{database}')\n",
    "connection = engine.connect()"
   ]
  },
  {
   "cell_type": "code",
   "execution_count": 8,
   "id": "81b89f4f",
   "metadata": {},
   "outputs": [
    {
     "name": "stdout",
     "output_type": "stream",
     "text": [
      "Data imported successfully.\n"
     ]
    },
    {
     "name": "stderr",
     "output_type": "stream",
     "text": [
      "<>:21: SyntaxWarning: invalid escape sequence '\\P'\n",
      "<>:21: SyntaxWarning: invalid escape sequence '\\P'\n",
      "C:\\Users\\DELL\\AppData\\Local\\Temp\\ipykernel_34464\\969487962.py:21: SyntaxWarning: invalid escape sequence '\\P'\n",
      "  input_csv = 'D:\\Project\\heart diseases\\Data\\heart_disease_cleaned.csv'\n"
     ]
    }
   ],
   "source": [
    "table_check_query = \"\"\"\n",
    "CREATE TABLE IF NOT EXISTS heart_data_cleaned (\n",
    "Age FLOAT,\n",
    "Sex INT,\n",
    "ChestPainType INT,\n",
    "RestingBP FLOAT,\n",
    "Cholesterol FLOAT,\n",
    "FastingBS INT,\n",
    "RestingECG INT,\n",
    "MaxHR FLOAT,\n",
    "ExerciseAngina INT,\n",
    "Oldpeak FLOAT,\n",
    "ST_Slope INT,\n",
    "CountMajorVessels INT,\n",
    "Thalassemia INT,\n",
    "HeartDisease INT,\n",
    "Area INT\n",
    ");\n",
    "\"\"\"\n",
    "\n",
    "input_csv = \"D:\\Project\\HeartDiseases\\Data\\heart_disease_cleaned.csv\"\n",
    "try:\n",
    "    input_df = pd.read_csv(input_csv)\n",
    "except FileNotFoundError:\n",
    "    print(f\"No file found with the name '{input_csv}'.\")\n",
    "\n",
    "# Truncate the table before inserting new data\n",
    "truncate_query = \"TRUNCATE TABLE heart_data_cleaned;\"\n",
    "connection.execute(text(truncate_query))\n",
    "        \n",
    "# Create the table if it doesn't exist\n",
    "connection.execute(text(table_check_query))\n",
    "\n",
    "# Import the DataFrame to MySQL\n",
    "input_df.to_sql('heart_data_cleaned', con= engine, if_exists='append', index=False)\n",
    "\n",
    "print(\"Data imported successfully.\")"
   ]
  }
 ],
 "metadata": {
  "kernelspec": {
   "display_name": "Python 3 (ipykernel)",
   "language": "python",
   "name": "python3"
  },
  "language_info": {
   "codemirror_mode": {
    "name": "ipython",
    "version": 3
   },
   "file_extension": ".py",
   "mimetype": "text/x-python",
   "name": "python",
   "nbconvert_exporter": "python",
   "pygments_lexer": "ipython3",
   "version": "3.12.0"
  }
 },
 "nbformat": 4,
 "nbformat_minor": 5
}
